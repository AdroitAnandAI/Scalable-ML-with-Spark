{
 "cells": [
  {
   "cell_type": "markdown",
   "metadata": {
    "colab_type": "text",
    "id": "vVUDDknvUxtU"
   },
   "source": [
    "# Predict Humidity for Multiple Weather Parameters (Time Series Data)"
   ]
  },
  {
   "cell_type": "markdown",
   "metadata": {},
   "source": [
    "The daily temperate, wind, rainfall and humidity of a location is recorded and noted in the input dataset from 1990~2020s. \n",
    "\n",
    "Build a time series model to predict the humidity in Y2021, given these features: temperate, wind, rainfall. 2020Q4 data can be used as test dataset, while the remaining for training the model. To verify the model, you can use any metric to compare prediction and actual humidity values in 2020Q4."
   ]
  },
  {
   "cell_type": "code",
   "execution_count": 104,
   "metadata": {},
   "outputs": [],
   "source": [
    "import numpy as np\n",
    "import matplotlib.pyplot as plt\n",
    "import pandas as pd\n",
    "pd.set_option('display.float_format', lambda x: '%.4f' % x)\n",
    "import seaborn as sns\n",
    "sns.set_context(\"paper\", font_scale=1.3)\n",
    "sns.set_style('white')\n",
    "import warnings\n",
    "warnings.filterwarnings('ignore')\n",
    "from time import time\n",
    "import matplotlib.ticker as tkr\n",
    "from scipy import stats\n",
    "from statsmodels.tsa.stattools import pacf\n",
    "%matplotlib inline\n",
    "\n",
    "# from tensorflow.keras import Sequential\n",
    "# # from tensorflow.keras.layers import Dropout, LSTM, Dense\n",
    "# from tensorflow.keras.layers import *\n",
    "# from tensorflow.keras.callbacks import EarlyStopping\n",
    "\n",
    "import math\n",
    "# import keras\n",
    "# from keras.models import Sequential\n",
    "# from keras.layers import Dense\n",
    "# from keras.layers import LSTM\n",
    "# from keras.layers import Dropout\n",
    "# from keras.layers import *\n",
    "\n",
    "from sklearn.preprocessing import MinMaxScaler\n",
    "from sklearn.metrics import mean_squared_error\n",
    "from sklearn.metrics import mean_absolute_error\n",
    "# from keras.callbacks import EarlyStopping"
   ]
  },
  {
   "cell_type": "code",
   "execution_count": 105,
   "metadata": {
    "colab": {
     "base_uri": "https://localhost:8080/",
     "height": 80
    },
    "colab_type": "code",
    "id": "uzpdL-dc1yel",
    "outputId": "cd38d83c-c13d-4a61-c99c-9f47845c482c"
   },
   "outputs": [],
   "source": [
    "# import tensorflow as tf \n",
    "# tf.test.gpu_device_name() "
   ]
  },
  {
   "cell_type": "markdown",
   "metadata": {
    "colab_type": "text",
    "id": "JVA5x5eGUxuJ"
   },
   "source": [
    "# Loading  Data"
   ]
  },
  {
   "cell_type": "code",
   "execution_count": 106,
   "metadata": {
    "colab": {
     "base_uri": "https://localhost:8080/",
     "height": 224
    },
    "colab_type": "code",
    "id": "E8mGWXTZUxuN",
    "outputId": "fd7ad34c-bb48-4299-ef58-1cf0527c9928"
   },
   "outputs": [
    {
     "data": {
      "text/html": [
       "<div>\n",
       "<style scoped>\n",
       "    .dataframe tbody tr th:only-of-type {\n",
       "        vertical-align: middle;\n",
       "    }\n",
       "\n",
       "    .dataframe tbody tr th {\n",
       "        vertical-align: top;\n",
       "    }\n",
       "\n",
       "    .dataframe thead th {\n",
       "        text-align: right;\n",
       "    }\n",
       "</style>\n",
       "<table border=\"1\" class=\"dataframe\">\n",
       "  <thead>\n",
       "    <tr style=\"text-align: right;\">\n",
       "      <th></th>\n",
       "      <th>date</th>\n",
       "      <th>temp</th>\n",
       "      <th>wind</th>\n",
       "      <th>rainfall</th>\n",
       "      <th>humidity</th>\n",
       "    </tr>\n",
       "  </thead>\n",
       "  <tbody>\n",
       "    <tr>\n",
       "      <th>0</th>\n",
       "      <td>19900101</td>\n",
       "      <td>28.4000</td>\n",
       "      <td>17.9600</td>\n",
       "      <td>20.4000</td>\n",
       "      <td>32.1800</td>\n",
       "    </tr>\n",
       "    <tr>\n",
       "      <th>1</th>\n",
       "      <td>19900102</td>\n",
       "      <td>35.5000</td>\n",
       "      <td>2.2300</td>\n",
       "      <td>0.0000</td>\n",
       "      <td>22.8400</td>\n",
       "    </tr>\n",
       "    <tr>\n",
       "      <th>2</th>\n",
       "      <td>19900103</td>\n",
       "      <td>17.4000</td>\n",
       "      <td>9.0600</td>\n",
       "      <td>0.0000</td>\n",
       "      <td>29.3800</td>\n",
       "    </tr>\n",
       "    <tr>\n",
       "      <th>3</th>\n",
       "      <td>19900104</td>\n",
       "      <td>28.4000</td>\n",
       "      <td>1.5700</td>\n",
       "      <td>0.0000</td>\n",
       "      <td>26.3000</td>\n",
       "    </tr>\n",
       "    <tr>\n",
       "      <th>4</th>\n",
       "      <td>19900105</td>\n",
       "      <td>28.3000</td>\n",
       "      <td>0.3000</td>\n",
       "      <td>0.0000</td>\n",
       "      <td>26.7500</td>\n",
       "    </tr>\n",
       "  </tbody>\n",
       "</table>\n",
       "</div>"
      ],
      "text/plain": [
       "       date    temp    wind  rainfall  humidity\n",
       "0  19900101 28.4000 17.9600   20.4000   32.1800\n",
       "1  19900102 35.5000  2.2300    0.0000   22.8400\n",
       "2  19900103 17.4000  9.0600    0.0000   29.3800\n",
       "3  19900104 28.4000  1.5700    0.0000   26.3000\n",
       "4  19900105 28.3000  0.3000    0.0000   26.7500"
      ]
     },
     "execution_count": 106,
     "metadata": {},
     "output_type": "execute_result"
    }
   ],
   "source": [
    "# Importing necessary modules\n",
    "from sklearn.linear_model import LinearRegression\n",
    "import matplotlib.pyplot as plt\n",
    "\n",
    "# Importing the statistics module\n",
    "from statistics import mean\n",
    "from statistics import median\n",
    "\n",
    "# To load the input data\n",
    "import pandas as pd\n",
    "import numpy as np\n",
    "from datetime import datetime\n",
    "from matplotlib import pyplot\n",
    "\n",
    "# used to format headings \n",
    "bold = '\\033[1m'\n",
    "end = '\\033[0m'\n",
    "\n",
    "# from google.colab import drive\n",
    "# drive.mount('/content/gdrive')\n",
    "\n",
    "# Read the s&p 500 input data set and sorting based on date.\n",
    "observed = pd.read_csv(\"./observed_1.csv\", index_col=False)\n",
    "\n",
    "observed.head()\n",
    "\n",
    "\n",
    "# sp500[\"Date\"] = pd.to_datetime(sp500[\"Date\"])\n",
    "# sp_sorted = sp500.sort_values(\"Date\")\n",
    "\n",
    "# print(sp_sorted.head(3))\n",
    "# print(sp_sorted.tail(3))"
   ]
  },
  {
   "cell_type": "code",
   "execution_count": 107,
   "metadata": {},
   "outputs": [
    {
     "data": {
      "text/plain": [
       "11231"
      ]
     },
     "execution_count": 107,
     "metadata": {},
     "output_type": "execute_result"
    }
   ],
   "source": [
    "len(observed)\n",
    "# observed['temp'] < 100"
   ]
  },
  {
   "cell_type": "markdown",
   "metadata": {},
   "source": [
    "# Data Filtering"
   ]
  },
  {
   "cell_type": "code",
   "execution_count": 108,
   "metadata": {},
   "outputs": [
    {
     "data": {
      "text/plain": [
       "11127"
      ]
     },
     "execution_count": 108,
     "metadata": {},
     "output_type": "execute_result"
    }
   ],
   "source": [
    "# len(observed_filtered)\n",
    "# observed[\"temp\"] > 100\n",
    "\n",
    "observed_filtered = observed[observed['temp'] < 100] \n",
    "len(observed_filtered)"
   ]
  },
  {
   "cell_type": "code",
   "execution_count": null,
   "metadata": {},
   "outputs": [],
   "source": []
  },
  {
   "cell_type": "markdown",
   "metadata": {},
   "source": [
    "10% code filtered out."
   ]
  },
  {
   "cell_type": "code",
   "execution_count": 109,
   "metadata": {},
   "outputs": [
    {
     "data": {
      "text/plain": [
       "11127"
      ]
     },
     "execution_count": 109,
     "metadata": {},
     "output_type": "execute_result"
    }
   ],
   "source": [
    "len(observed_filtered)"
   ]
  },
  {
   "cell_type": "code",
   "execution_count": 110,
   "metadata": {},
   "outputs": [
    {
     "data": {
      "text/plain": [
       "133"
      ]
     },
     "execution_count": 110,
     "metadata": {},
     "output_type": "execute_result"
    }
   ],
   "source": [
    "from datetime import datetime\n",
    "day_of_year = datetime.now().timetuple().tm_yday\n",
    "day_of_year"
   ]
  },
  {
   "cell_type": "code",
   "execution_count": 111,
   "metadata": {},
   "outputs": [
    {
     "data": {
      "text/plain": [
       "36"
      ]
     },
     "execution_count": 111,
     "metadata": {},
     "output_type": "execute_result"
    }
   ],
   "source": [
    "# datetime.now()\n",
    "date_time_obj = datetime.strptime(\"040205\", '%y%m%d')\n",
    "date_time_obj.timetuple().tm_yday"
   ]
  },
  {
   "cell_type": "code",
   "execution_count": 112,
   "metadata": {},
   "outputs": [],
   "source": [
    "def convert_to_date(date):\n",
    "    date_as_string = str(date)\n",
    "    date_as_string = date_as_string[2:]\n",
    "    date_time_obj = datetime.strptime(date_as_string, '%y%m%d')\n",
    "    return date_time_obj\n",
    "    \n",
    "def convert_to_daynum(date):\n",
    "    date_as_string = str(date)\n",
    "    date_as_string = date_as_string[2:]\n",
    "    date_time_obj = datetime.strptime(date_as_string, '%y%m%d')\n",
    "\n",
    "    return date_time_obj.timetuple().tm_yday\n",
    "\n",
    "#     return int(year_as_string)\n",
    "\n",
    "observed_filtered['day'] = observed_filtered['date'].apply(convert_to_daynum)\n",
    "\n",
    "observed_filtered['date'] = observed_filtered['date'].apply(convert_to_date)"
   ]
  },
  {
   "cell_type": "code",
   "execution_count": 113,
   "metadata": {},
   "outputs": [
    {
     "data": {
      "text/html": [
       "<div>\n",
       "<style scoped>\n",
       "    .dataframe tbody tr th:only-of-type {\n",
       "        vertical-align: middle;\n",
       "    }\n",
       "\n",
       "    .dataframe tbody tr th {\n",
       "        vertical-align: top;\n",
       "    }\n",
       "\n",
       "    .dataframe thead th {\n",
       "        text-align: right;\n",
       "    }\n",
       "</style>\n",
       "<table border=\"1\" class=\"dataframe\">\n",
       "  <thead>\n",
       "    <tr style=\"text-align: right;\">\n",
       "      <th></th>\n",
       "      <th>date</th>\n",
       "      <th>temp</th>\n",
       "      <th>wind</th>\n",
       "      <th>rainfall</th>\n",
       "      <th>humidity</th>\n",
       "      <th>day</th>\n",
       "    </tr>\n",
       "  </thead>\n",
       "  <tbody>\n",
       "    <tr>\n",
       "      <th>0</th>\n",
       "      <td>1990-01-01</td>\n",
       "      <td>28.4000</td>\n",
       "      <td>17.9600</td>\n",
       "      <td>20.4000</td>\n",
       "      <td>32.1800</td>\n",
       "      <td>1</td>\n",
       "    </tr>\n",
       "    <tr>\n",
       "      <th>1</th>\n",
       "      <td>1990-01-02</td>\n",
       "      <td>35.5000</td>\n",
       "      <td>2.2300</td>\n",
       "      <td>0.0000</td>\n",
       "      <td>22.8400</td>\n",
       "      <td>2</td>\n",
       "    </tr>\n",
       "    <tr>\n",
       "      <th>2</th>\n",
       "      <td>1990-01-03</td>\n",
       "      <td>17.4000</td>\n",
       "      <td>9.0600</td>\n",
       "      <td>0.0000</td>\n",
       "      <td>29.3800</td>\n",
       "      <td>3</td>\n",
       "    </tr>\n",
       "    <tr>\n",
       "      <th>3</th>\n",
       "      <td>1990-01-04</td>\n",
       "      <td>28.4000</td>\n",
       "      <td>1.5700</td>\n",
       "      <td>0.0000</td>\n",
       "      <td>26.3000</td>\n",
       "      <td>4</td>\n",
       "    </tr>\n",
       "    <tr>\n",
       "      <th>4</th>\n",
       "      <td>1990-01-05</td>\n",
       "      <td>28.3000</td>\n",
       "      <td>0.3000</td>\n",
       "      <td>0.0000</td>\n",
       "      <td>26.7500</td>\n",
       "      <td>5</td>\n",
       "    </tr>\n",
       "  </tbody>\n",
       "</table>\n",
       "</div>"
      ],
      "text/plain": [
       "        date    temp    wind  rainfall  humidity  day\n",
       "0 1990-01-01 28.4000 17.9600   20.4000   32.1800    1\n",
       "1 1990-01-02 35.5000  2.2300    0.0000   22.8400    2\n",
       "2 1990-01-03 17.4000  9.0600    0.0000   29.3800    3\n",
       "3 1990-01-04 28.4000  1.5700    0.0000   26.3000    4\n",
       "4 1990-01-05 28.3000  0.3000    0.0000   26.7500    5"
      ]
     },
     "execution_count": 113,
     "metadata": {},
     "output_type": "execute_result"
    }
   ],
   "source": [
    "observed_filtered.head()"
   ]
  },
  {
   "cell_type": "code",
   "execution_count": 114,
   "metadata": {},
   "outputs": [
    {
     "data": {
      "text/html": [
       "<div>\n",
       "<style scoped>\n",
       "    .dataframe tbody tr th:only-of-type {\n",
       "        vertical-align: middle;\n",
       "    }\n",
       "\n",
       "    .dataframe tbody tr th {\n",
       "        vertical-align: top;\n",
       "    }\n",
       "\n",
       "    .dataframe thead th {\n",
       "        text-align: right;\n",
       "    }\n",
       "</style>\n",
       "<table border=\"1\" class=\"dataframe\">\n",
       "  <thead>\n",
       "    <tr style=\"text-align: right;\">\n",
       "      <th></th>\n",
       "      <th>week</th>\n",
       "      <th>temp</th>\n",
       "      <th>wind</th>\n",
       "      <th>rainfall</th>\n",
       "      <th>day</th>\n",
       "      <th>humScale</th>\n",
       "      <th>humidity</th>\n",
       "    </tr>\n",
       "  </thead>\n",
       "  <tbody>\n",
       "    <tr>\n",
       "      <th>0</th>\n",
       "      <td>1</td>\n",
       "      <td>28.4000</td>\n",
       "      <td>17.9600</td>\n",
       "      <td>20.4000</td>\n",
       "      <td>1</td>\n",
       "      <td>579.3600</td>\n",
       "      <td>32.1800</td>\n",
       "    </tr>\n",
       "    <tr>\n",
       "      <th>1</th>\n",
       "      <td>1</td>\n",
       "      <td>35.5000</td>\n",
       "      <td>2.2300</td>\n",
       "      <td>0.0000</td>\n",
       "      <td>2</td>\n",
       "      <td>0.0000</td>\n",
       "      <td>22.8400</td>\n",
       "    </tr>\n",
       "    <tr>\n",
       "      <th>2</th>\n",
       "      <td>1</td>\n",
       "      <td>17.4000</td>\n",
       "      <td>9.0600</td>\n",
       "      <td>0.0000</td>\n",
       "      <td>3</td>\n",
       "      <td>0.0000</td>\n",
       "      <td>29.3800</td>\n",
       "    </tr>\n",
       "    <tr>\n",
       "      <th>3</th>\n",
       "      <td>1</td>\n",
       "      <td>28.4000</td>\n",
       "      <td>1.5700</td>\n",
       "      <td>0.0000</td>\n",
       "      <td>4</td>\n",
       "      <td>0.0000</td>\n",
       "      <td>26.3000</td>\n",
       "    </tr>\n",
       "    <tr>\n",
       "      <th>4</th>\n",
       "      <td>1</td>\n",
       "      <td>28.3000</td>\n",
       "      <td>0.3000</td>\n",
       "      <td>0.0000</td>\n",
       "      <td>5</td>\n",
       "      <td>0.0000</td>\n",
       "      <td>26.7500</td>\n",
       "    </tr>\n",
       "    <tr>\n",
       "      <th>5</th>\n",
       "      <td>1</td>\n",
       "      <td>35.4000</td>\n",
       "      <td>14.0400</td>\n",
       "      <td>0.0000</td>\n",
       "      <td>6</td>\n",
       "      <td>0.0000</td>\n",
       "      <td>20.7900</td>\n",
       "    </tr>\n",
       "    <tr>\n",
       "      <th>6</th>\n",
       "      <td>1</td>\n",
       "      <td>11.4000</td>\n",
       "      <td>5.6700</td>\n",
       "      <td>0.0000</td>\n",
       "      <td>7</td>\n",
       "      <td>0.0000</td>\n",
       "      <td>32.9600</td>\n",
       "    </tr>\n",
       "    <tr>\n",
       "      <th>7</th>\n",
       "      <td>2</td>\n",
       "      <td>29.5000</td>\n",
       "      <td>18.3600</td>\n",
       "      <td>0.0000</td>\n",
       "      <td>8</td>\n",
       "      <td>0.0000</td>\n",
       "      <td>21.8500</td>\n",
       "    </tr>\n",
       "    <tr>\n",
       "      <th>8</th>\n",
       "      <td>2</td>\n",
       "      <td>12.8000</td>\n",
       "      <td>19.2400</td>\n",
       "      <td>0.0000</td>\n",
       "      <td>9</td>\n",
       "      <td>0.0000</td>\n",
       "      <td>29.5500</td>\n",
       "    </tr>\n",
       "    <tr>\n",
       "      <th>9</th>\n",
       "      <td>2</td>\n",
       "      <td>32.2000</td>\n",
       "      <td>9.2700</td>\n",
       "      <td>0.0000</td>\n",
       "      <td>10</td>\n",
       "      <td>0.0000</td>\n",
       "      <td>22.7400</td>\n",
       "    </tr>\n",
       "  </tbody>\n",
       "</table>\n",
       "</div>"
      ],
      "text/plain": [
       "   week    temp    wind  rainfall  day  humScale  humidity\n",
       "0     1 28.4000 17.9600   20.4000    1  579.3600   32.1800\n",
       "1     1 35.5000  2.2300    0.0000    2    0.0000   22.8400\n",
       "2     1 17.4000  9.0600    0.0000    3    0.0000   29.3800\n",
       "3     1 28.4000  1.5700    0.0000    4    0.0000   26.3000\n",
       "4     1 28.3000  0.3000    0.0000    5    0.0000   26.7500\n",
       "5     1 35.4000 14.0400    0.0000    6    0.0000   20.7900\n",
       "6     1 11.4000  5.6700    0.0000    7    0.0000   32.9600\n",
       "7     2 29.5000 18.3600    0.0000    8    0.0000   21.8500\n",
       "8     2 12.8000 19.2400    0.0000    9    0.0000   29.5500\n",
       "9     2 32.2000  9.2700    0.0000   10    0.0000   22.7400"
      ]
     },
     "execution_count": 114,
     "metadata": {},
     "output_type": "execute_result"
    }
   ],
   "source": [
    "df = observed_filtered\n",
    "\n",
    "# df['date']=pd.to_datetime(df['date'])\n",
    "df['year'] = df['date'].apply(lambda x: x.year)\n",
    "df['week'] = df['date'].apply(lambda x: x.week)\n",
    "df['month'] = df['date'].apply(lambda x: x.month)\n",
    "df['dayinmonth'] = df['date'].apply(lambda x: x.day)\n",
    "df['humScale'] = df['temp'] * df['rainfall'] \n",
    "\n",
    "df.sort_values('date', inplace=True, ascending=True)\n",
    "# df=df.loc[:,['date','year','quarter','month','dayinmonth', 'temp', 'wind', 'rainfall', 'day', 'humidity']]\n",
    "df=df.loc[:,['week', 'temp', 'wind', 'rainfall', 'day', 'humScale', 'humidity']]\n",
    "df = df.reset_index(drop=True)\n",
    "df.head(10)"
   ]
  },
  {
   "cell_type": "code",
   "execution_count": 115,
   "metadata": {
    "colab": {
     "base_uri": "https://localhost:8080/",
     "height": 377
    },
    "colab_type": "code",
    "id": "_92efK0jd8w8",
    "outputId": "5ba039d5-8663-4ee5-c589-2a59bf7c0875"
   },
   "outputs": [
    {
     "name": "stdout",
     "output_type": "stream",
     "text": [
      "11127\n"
     ]
    },
    {
     "data": {
      "image/png": "[encoded data removed]",
      "text/plain": [
       "<Figure size 1080x360 with 1 Axes>"
      ]
     },
     "metadata": {
      "needs_background": "light"
     },
     "output_type": "display_data"
    }
   ],
   "source": [
    "# Visualization Module - Humidity\n",
    "\n",
    "humidity = df['humidity']\n",
    "x = np.arange(0, len(humidity))\n",
    "print(len(humidity))\n",
    "\n",
    "plt.figure(figsize=(15,5))\n",
    "plt.plot(x, humidity, label=\"Humidity\")\n",
    "\n",
    "plt.legend()\n",
    "plt.title(\"Humidity vs Time\", fontsize=20)\n",
    "plt.ylabel(\"Humidity\", fontsize=15)\n",
    "plt.xlabel(\"Time\", fontsize=15)\n",
    "plt.show()\n"
   ]
  },
  {
   "cell_type": "markdown",
   "metadata": {},
   "source": [
    "# Random Forest Regression on Spark"
   ]
  },
  {
   "cell_type": "code",
   "execution_count": null,
   "metadata": {},
   "outputs": [],
   "source": []
  },
  {
   "cell_type": "code",
   "execution_count": 116,
   "metadata": {},
   "outputs": [],
   "source": [
    "from pyspark.ml.feature import VectorAssembler\n",
    "\n",
    "# Assemble all the features with VectorAssembler\n",
    "def assembleFeatures(dfRDD):\n",
    "\n",
    "    required_features = ['week',\n",
    "                        'temp',\n",
    "                        'wind',\n",
    "                        'rainfall',\n",
    "                        'day',\n",
    "                        'humScale'\n",
    "                       ]\n",
    "\n",
    "    assembler = VectorAssembler(inputCols=required_features, outputCol='features')\n",
    "\n",
    "    transformed_data = assembler.transform(dfRDD)\n",
    "    \n",
    "    return transformed_data"
   ]
  },
  {
   "cell_type": "code",
   "execution_count": 117,
   "metadata": {},
   "outputs": [],
   "source": [
    "def trainRFmodel(trainingData):\n",
    "\n",
    "    # Train a RandomForest model.\n",
    "    rf = RandomForestRegressor(featuresCol=\"features\")\n",
    "\n",
    "    # Chain indexer and forest in a Pipeline\n",
    "    pipeline = Pipeline(stages=[rf])\n",
    "\n",
    "    # Train model.  This also runs the indexer.\n",
    "    model = pipeline.fit(trainingData)\n",
    "    \n",
    "    return model"
   ]
  },
  {
   "cell_type": "code",
   "execution_count": 118,
   "metadata": {},
   "outputs": [],
   "source": [
    "def testRFmodel(model, testData, isLabelled):\n",
    "\n",
    "    # Make predictions.\n",
    "    predictions = model.transform(testData)\n",
    "\n",
    "    # Select example rows to display.\n",
    "    if isLabelled:\n",
    "        predictions.select(\"prediction\", \"label\", \"features\").show(5)\n",
    "        \n",
    "        # Select (prediction, true label) and compute test error\n",
    "        evaluator = RegressionEvaluator(\n",
    "            labelCol=\"label\", predictionCol=\"prediction\", metricName=\"rmse\")\n",
    "        rmse = evaluator.evaluate(predictions)\n",
    "        print(\"Root Mean Squared Error (RMSE) on test data = %g\" % rmse)\n",
    "    else:\n",
    "        predictions.select(\"prediction\", \"features\").show(5)\n",
    "\n",
    "    rfModel = model.stages[0]\n",
    "    print(rfModel)  # summary only\n",
    "    \n",
    "    return predictions.select(\"prediction\", \"features\")"
   ]
  },
  {
   "cell_type": "code",
   "execution_count": 119,
   "metadata": {},
   "outputs": [
    {
     "name": "stdout",
     "output_type": "stream",
     "text": [
      "+----+----+-----+--------+---+------------------+-----+--------------------+\n",
      "|week|temp| wind|rainfall|day|          humScale|label|            features|\n",
      "+----+----+-----+--------+---+------------------+-----+--------------------+\n",
      "|   1|28.4|17.96|    20.4|  1| 579.3599999999999|32.18|[1.0,28.4,17.96,2...|\n",
      "|   1|35.5| 2.23|     0.0|  2|               0.0|22.84|[1.0,35.5,2.23,0....|\n",
      "|   1|17.4| 9.06|     0.0|  3|               0.0|29.38|[1.0,17.4,9.06,0....|\n",
      "|   1|28.4| 1.57|     0.0|  4|               0.0| 26.3|[1.0,28.4,1.57,0....|\n",
      "|   1|28.3|  0.3|     0.0|  5|               0.0|26.75|[1.0,28.3,0.3,0.0...|\n",
      "|   1|35.4|14.04|     0.0|  6|               0.0|20.79|[1.0,35.4,14.04,0...|\n",
      "|   1|11.4| 5.67|     0.0|  7|               0.0|32.96|[1.0,11.4,5.67,0....|\n",
      "|   2|29.5|18.36|     0.0|  8|               0.0|21.85|[2.0,29.5,18.36,0...|\n",
      "|   2|12.8|19.24|     0.0|  9|               0.0|29.55|[2.0,12.8,19.24,0...|\n",
      "|   2|32.2| 9.27|     0.0| 10|               0.0|22.74|[2.0,32.2,9.27,0....|\n",
      "|   2|27.9|16.92|     0.0| 11|               0.0|23.38|[2.0,27.9,16.92,0...|\n",
      "|   2|13.8|10.96|    27.7| 12|            382.26|44.16|[2.0,13.8,10.96,2...|\n",
      "|   2|25.3|13.89|    57.6| 13|           1457.28|52.14|[2.0,25.3,13.89,5...|\n",
      "|   2|39.8|19.28|    52.4| 14|           2085.52|42.59|[2.0,39.8,19.28,5...|\n",
      "|   3|28.1| 4.26|    26.9| 15|            755.89|39.23|[3.0,28.1,4.26,26...|\n",
      "|   3|31.2|19.72|     0.0| 16|               0.0|20.88|[3.0,31.2,19.72,0...|\n",
      "|   3|19.8|  5.1|    33.5| 17| 663.3000000000001|45.14|[3.0,19.8,5.1,33....|\n",
      "|   3|38.2| 6.63|    41.2| 19|1573.8400000000001|40.34|[3.0,38.2,6.63,41...|\n",
      "|   3|32.8| 6.67|     0.0| 20|               0.0|23.55|[3.0,32.8,6.67,0....|\n",
      "|   4|30.8| 1.26|     0.0| 22|               0.0|24.96|[4.0,30.8,1.26,0....|\n",
      "+----+----+-----+--------+---+------------------+-----+--------------------+\n",
      "only showing top 20 rows\n",
      "\n",
      "+------------------+-----+--------------------+\n",
      "|        prediction|label|            features|\n",
      "+------------------+-----+--------------------+\n",
      "| 30.42920105353597|30.06|[1.0,11.3,17.18,0...|\n",
      "|31.649633133110974|33.41|[1.0,11.5,2.56,0....|\n",
      "| 45.35681063543329|43.82|[1.0,12.9,1.11,22...|\n",
      "|31.649633133110974|32.74|[1.0,13.0,4.62,0....|\n",
      "| 30.42920105353597|29.94|[1.0,14.8,12.65,0...|\n",
      "+------------------+-----+--------------------+\n",
      "only showing top 5 rows\n",
      "\n",
      "Root Mean Squared Error (RMSE) on test data = 2.48505\n",
      "RandomForestRegressionModel: uid=RandomForestRegressor_eb943272c2fa, numTrees=20, numFeatures=6\n"
     ]
    },
    {
     "data": {
      "text/plain": [
       "DataFrame[prediction: double, features: vector]"
      ]
     },
     "execution_count": 119,
     "metadata": {},
     "output_type": "execute_result"
    }
   ],
   "source": [
    "import pyspark\n",
    "from datetime import datetime\n",
    "from pyspark.ml import Pipeline\n",
    "from pyspark.ml.regression import RandomForestRegressor\n",
    "from pyspark.ml.feature import VectorIndexer\n",
    "from pyspark.ml.evaluation import RegressionEvaluator\n",
    "\n",
    "from pyspark.context import SparkContext\n",
    "from pyspark.sql.session import SparkSession\n",
    "\n",
    "\n",
    "if not 'sc' in globals():\n",
    "    sc = SparkContext('local')\n",
    "    spark = SparkSession(sc)\n",
    "\n",
    "\n",
    "df.columns = ['week', 'temp', 'wind', 'rainfall', 'day', 'humScale', 'label']\n",
    "\n",
    "dfRDD = spark.createDataFrame(df)\n",
    "\n",
    "transformed_data = assembleFeatures(dfRDD)\n",
    "transformed_data.show()\n",
    "\n",
    "# Split the data\n",
    "(trainingData, testData) = transformed_data.randomSplit([0.9,0.1])\n",
    "\n",
    "\n",
    "a = datetime.now()\n",
    "\n",
    "model = trainRFmodel(trainingData)\n",
    "\n",
    "b = datetime.now()\n",
    "\n",
    "testRFmodel(model, testData, True)\n"
   ]
  },
  {
   "cell_type": "code",
   "execution_count": 120,
   "metadata": {},
   "outputs": [
    {
     "data": {
      "text/plain": [
       "0.707555"
      ]
     },
     "execution_count": 120,
     "metadata": {},
     "output_type": "execute_result"
    }
   ],
   "source": [
    "# Time Taken for Training Random Forest\n",
    "c = b - a\n",
    "c\n",
    "c.total_seconds()"
   ]
  },
  {
   "cell_type": "markdown",
   "metadata": {},
   "source": [
    "# 2020 Prediction"
   ]
  },
  {
   "cell_type": "code",
   "execution_count": 121,
   "metadata": {},
   "outputs": [
    {
     "data": {
      "text/html": [
       "<div>\n",
       "<style scoped>\n",
       "    .dataframe tbody tr th:only-of-type {\n",
       "        vertical-align: middle;\n",
       "    }\n",
       "\n",
       "    .dataframe tbody tr th {\n",
       "        vertical-align: top;\n",
       "    }\n",
       "\n",
       "    .dataframe thead th {\n",
       "        text-align: right;\n",
       "    }\n",
       "</style>\n",
       "<table border=\"1\" class=\"dataframe\">\n",
       "  <thead>\n",
       "    <tr style=\"text-align: right;\">\n",
       "      <th></th>\n",
       "      <th>date</th>\n",
       "      <th>temp</th>\n",
       "      <th>wind</th>\n",
       "      <th>rainfall</th>\n",
       "    </tr>\n",
       "  </thead>\n",
       "  <tbody>\n",
       "    <tr>\n",
       "      <th>0</th>\n",
       "      <td>20201001</td>\n",
       "      <td>30.1000</td>\n",
       "      <td>16.7600</td>\n",
       "      <td>0.0000</td>\n",
       "    </tr>\n",
       "    <tr>\n",
       "      <th>1</th>\n",
       "      <td>20201002</td>\n",
       "      <td>24.7000</td>\n",
       "      <td>18.6800</td>\n",
       "      <td>30.9000</td>\n",
       "    </tr>\n",
       "    <tr>\n",
       "      <th>2</th>\n",
       "      <td>20201003</td>\n",
       "      <td>30.0000</td>\n",
       "      <td>5.3400</td>\n",
       "      <td>13.9000</td>\n",
       "    </tr>\n",
       "    <tr>\n",
       "      <th>3</th>\n",
       "      <td>20201004</td>\n",
       "      <td>23.7000</td>\n",
       "      <td>10.9500</td>\n",
       "      <td>0.0000</td>\n",
       "    </tr>\n",
       "    <tr>\n",
       "      <th>4</th>\n",
       "      <td>20201005</td>\n",
       "      <td>27.4000</td>\n",
       "      <td>4.4200</td>\n",
       "      <td>0.0000</td>\n",
       "    </tr>\n",
       "  </tbody>\n",
       "</table>\n",
       "</div>"
      ],
      "text/plain": [
       "       date    temp    wind  rainfall\n",
       "0  20201001 30.1000 16.7600    0.0000\n",
       "1  20201002 24.7000 18.6800   30.9000\n",
       "2  20201003 30.0000  5.3400   13.9000\n",
       "3  20201004 23.7000 10.9500    0.0000\n",
       "4  20201005 27.4000  4.4200    0.0000"
      ]
     },
     "execution_count": 121,
     "metadata": {},
     "output_type": "execute_result"
    }
   ],
   "source": [
    "\n",
    "# Read the s&p 500 input data set and sorting based on date.\n",
    "observed_2020 = pd.read_csv(\"./test_input_1.csv\", index_col=False)\n",
    "\n",
    "observed_2020.head()"
   ]
  },
  {
   "cell_type": "code",
   "execution_count": 122,
   "metadata": {},
   "outputs": [],
   "source": [
    "\n",
    "observed_2020['day'] = observed_2020['date'].apply(convert_to_daynum)\n",
    "\n",
    "observed_2020['date'] = observed_2020['date'].apply(convert_to_date)"
   ]
  },
  {
   "cell_type": "code",
   "execution_count": 123,
   "metadata": {},
   "outputs": [
    {
     "data": {
      "text/html": [
       "<div>\n",
       "<style scoped>\n",
       "    .dataframe tbody tr th:only-of-type {\n",
       "        vertical-align: middle;\n",
       "    }\n",
       "\n",
       "    .dataframe tbody tr th {\n",
       "        vertical-align: top;\n",
       "    }\n",
       "\n",
       "    .dataframe thead th {\n",
       "        text-align: right;\n",
       "    }\n",
       "</style>\n",
       "<table border=\"1\" class=\"dataframe\">\n",
       "  <thead>\n",
       "    <tr style=\"text-align: right;\">\n",
       "      <th></th>\n",
       "      <th>week</th>\n",
       "      <th>temp</th>\n",
       "      <th>wind</th>\n",
       "      <th>rainfall</th>\n",
       "      <th>day</th>\n",
       "      <th>humScale</th>\n",
       "    </tr>\n",
       "  </thead>\n",
       "  <tbody>\n",
       "    <tr>\n",
       "      <th>0</th>\n",
       "      <td>40</td>\n",
       "      <td>30.1000</td>\n",
       "      <td>16.7600</td>\n",
       "      <td>0.0000</td>\n",
       "      <td>275</td>\n",
       "      <td>0.0000</td>\n",
       "    </tr>\n",
       "    <tr>\n",
       "      <th>1</th>\n",
       "      <td>40</td>\n",
       "      <td>24.7000</td>\n",
       "      <td>18.6800</td>\n",
       "      <td>30.9000</td>\n",
       "      <td>276</td>\n",
       "      <td>763.2300</td>\n",
       "    </tr>\n",
       "    <tr>\n",
       "      <th>2</th>\n",
       "      <td>40</td>\n",
       "      <td>30.0000</td>\n",
       "      <td>5.3400</td>\n",
       "      <td>13.9000</td>\n",
       "      <td>277</td>\n",
       "      <td>417.0000</td>\n",
       "    </tr>\n",
       "    <tr>\n",
       "      <th>3</th>\n",
       "      <td>40</td>\n",
       "      <td>23.7000</td>\n",
       "      <td>10.9500</td>\n",
       "      <td>0.0000</td>\n",
       "      <td>278</td>\n",
       "      <td>0.0000</td>\n",
       "    </tr>\n",
       "    <tr>\n",
       "      <th>4</th>\n",
       "      <td>41</td>\n",
       "      <td>27.4000</td>\n",
       "      <td>4.4200</td>\n",
       "      <td>0.0000</td>\n",
       "      <td>279</td>\n",
       "      <td>0.0000</td>\n",
       "    </tr>\n",
       "  </tbody>\n",
       "</table>\n",
       "</div>"
      ],
      "text/plain": [
       "   week    temp    wind  rainfall  day  humScale\n",
       "0    40 30.1000 16.7600    0.0000  275    0.0000\n",
       "1    40 24.7000 18.6800   30.9000  276  763.2300\n",
       "2    40 30.0000  5.3400   13.9000  277  417.0000\n",
       "3    40 23.7000 10.9500    0.0000  278    0.0000\n",
       "4    41 27.4000  4.4200    0.0000  279    0.0000"
      ]
     },
     "execution_count": 123,
     "metadata": {},
     "output_type": "execute_result"
    }
   ],
   "source": [
    "df = observed_2020\n",
    "\n",
    "# df['date']=pd.to_datetime(df['date'])\n",
    "df['year'] = df['date'].apply(lambda x: x.year)\n",
    "df['week'] = df['date'].apply(lambda x: x.week)\n",
    "df['month'] = df['date'].apply(lambda x: x.month)\n",
    "df['dayinmonth'] = df['date'].apply(lambda x: x.day)\n",
    "\n",
    "df['humScale'] = df['temp'] * df['rainfall']\n",
    "\n",
    "df.sort_values('date', inplace=True, ascending=True)\n",
    "# df=df.loc[:,['date','year','quarter','month','dayinmonth', 'temp', 'wind', 'rainfall', 'day', 'humidity']]\n",
    "df=df.loc[:,['week', 'temp', 'wind', 'rainfall', 'day', 'humScale']]\n",
    "\n",
    "df = df.reset_index(drop=True)\n",
    "df.head()"
   ]
  },
  {
   "cell_type": "code",
   "execution_count": 124,
   "metadata": {},
   "outputs": [
    {
     "name": "stdout",
     "output_type": "stream",
     "text": [
      "+----+----+-----+--------+---+------------------+--------------------+\n",
      "|week|temp| wind|rainfall|day|          humScale|            features|\n",
      "+----+----+-----+--------+---+------------------+--------------------+\n",
      "|  40|30.1|16.76|     0.0|275|               0.0|[40.0,30.1,16.76,...|\n",
      "|  40|24.7|18.68|    30.9|276| 763.2299999999999|[40.0,24.7,18.68,...|\n",
      "|  40|30.0| 5.34|    13.9|277|             417.0|[40.0,30.0,5.34,1...|\n",
      "|  40|23.7|10.95|     0.0|278|               0.0|[40.0,23.7,10.95,...|\n",
      "|  41|27.4| 4.42|     0.0|279|               0.0|[41.0,27.4,4.42,0...|\n",
      "|  41|27.0|19.77|     0.0|280|               0.0|[41.0,27.0,19.77,...|\n",
      "|  41|39.1| 5.64|    26.3|281|1028.3300000000002|[41.0,39.1,5.64,2...|\n",
      "|  41|14.8|18.42|    58.8|282|            870.24|[41.0,14.8,18.42,...|\n",
      "|  41|30.2|12.62|     4.6|283|            138.92|[41.0,30.2,12.62,...|\n",
      "|  41|39.1|13.22|    42.6|284|           1665.66|[41.0,39.1,13.22,...|\n",
      "|  41|26.0| 0.47|    12.6|285|327.59999999999997|[41.0,26.0,0.47,1...|\n",
      "|  42|33.8|14.36|    57.3|286|1936.7399999999998|[42.0,33.8,14.36,...|\n",
      "|  42|14.3|13.91|     0.0|287|               0.0|[42.0,14.3,13.91,...|\n",
      "|  42|24.3| 2.17|     0.0|288|               0.0|[42.0,24.3,2.17,0...|\n",
      "|  42|16.4|16.54|     0.0|289|               0.0|[42.0,16.4,16.54,...|\n",
      "|  42|27.2|11.67|     0.0|290|               0.0|[42.0,27.2,11.67,...|\n",
      "|  42|25.4|152.3|     0.0|291|               0.0|[42.0,25.4,152.3,...|\n",
      "|  42|11.2|10.92|     0.0|292|               0.0|[42.0,11.2,10.92,...|\n",
      "|  43|39.0|11.53|     0.0|293|               0.0|[43.0,39.0,11.53,...|\n",
      "|  43|37.9|11.05|     2.8|294|106.11999999999999|[43.0,37.9,11.05,...|\n",
      "+----+----+-----+--------+---+------------------+--------------------+\n",
      "only showing top 20 rows\n",
      "\n"
     ]
    }
   ],
   "source": [
    "\n",
    "# df.columns = ['week', 'temp', 'wind', 'rainfall', 'day', 'humScale']\n",
    "\n",
    "dfRDD_2020 = spark.createDataFrame(df)\n",
    "\n",
    "transformed_data_2020 = assembleFeatures(dfRDD_2020)\n",
    "transformed_data_2020.show()\n",
    "\n",
    "# Split the data\n",
    "# (trainingData, testData) = transformed_data_2020.randomSplit([0.9,0.1])"
   ]
  },
  {
   "cell_type": "code",
   "execution_count": null,
   "metadata": {},
   "outputs": [],
   "source": []
  },
  {
   "cell_type": "code",
   "execution_count": 125,
   "metadata": {
    "scrolled": true
   },
   "outputs": [
    {
     "name": "stdout",
     "output_type": "stream",
     "text": [
      "+------------------+--------------------+\n",
      "|        prediction|            features|\n",
      "+------------------+--------------------+\n",
      "| 32.20830783606222|[40.0,30.1,16.76,...|\n",
      "| 47.66172019462211|[40.0,24.7,18.68,...|\n",
      "| 36.91692828834477|[40.0,30.0,5.34,1...|\n",
      "| 36.29618670970944|[40.0,23.7,10.95,...|\n",
      "|34.518216809078346|[41.0,27.4,4.42,0...|\n",
      "+------------------+--------------------+\n",
      "only showing top 5 rows\n",
      "\n",
      "RandomForestRegressionModel: uid=RandomForestRegressor_eb943272c2fa, numTrees=20, numFeatures=6\n"
     ]
    }
   ],
   "source": [
    "predictions = testRFmodel(model, transformed_data_2020, False)"
   ]
  },
  {
   "cell_type": "code",
   "execution_count": 126,
   "metadata": {},
   "outputs": [
    {
     "data": {
      "text/html": [
       "<div>\n",
       "<style scoped>\n",
       "    .dataframe tbody tr th:only-of-type {\n",
       "        vertical-align: middle;\n",
       "    }\n",
       "\n",
       "    .dataframe tbody tr th {\n",
       "        vertical-align: top;\n",
       "    }\n",
       "\n",
       "    .dataframe thead th {\n",
       "        text-align: right;\n",
       "    }\n",
       "</style>\n",
       "<table border=\"1\" class=\"dataframe\">\n",
       "  <thead>\n",
       "    <tr style=\"text-align: right;\">\n",
       "      <th></th>\n",
       "      <th>prediction</th>\n",
       "      <th>features</th>\n",
       "    </tr>\n",
       "  </thead>\n",
       "  <tbody>\n",
       "    <tr>\n",
       "      <th>0</th>\n",
       "      <td>32.2083</td>\n",
       "      <td>[40.0, 30.1, 16.76, 0.0, 275.0, 0.0]</td>\n",
       "    </tr>\n",
       "    <tr>\n",
       "      <th>1</th>\n",
       "      <td>47.6617</td>\n",
       "      <td>[40.0, 24.7, 18.68, 30.9, 276.0, 763.229999999...</td>\n",
       "    </tr>\n",
       "    <tr>\n",
       "      <th>2</th>\n",
       "      <td>36.9169</td>\n",
       "      <td>[40.0, 30.0, 5.34, 13.9, 277.0, 417.0]</td>\n",
       "    </tr>\n",
       "    <tr>\n",
       "      <th>3</th>\n",
       "      <td>36.2962</td>\n",
       "      <td>[40.0, 23.7, 10.95, 0.0, 278.0, 0.0]</td>\n",
       "    </tr>\n",
       "    <tr>\n",
       "      <th>4</th>\n",
       "      <td>34.5182</td>\n",
       "      <td>[41.0, 27.4, 4.42, 0.0, 279.0, 0.0]</td>\n",
       "    </tr>\n",
       "    <tr>\n",
       "      <th>...</th>\n",
       "      <td>...</td>\n",
       "      <td>...</td>\n",
       "    </tr>\n",
       "    <tr>\n",
       "      <th>87</th>\n",
       "      <td>40.2732</td>\n",
       "      <td>[52.0, 20.8, 3.05, 7.7, 362.0, 160.16]</td>\n",
       "    </tr>\n",
       "    <tr>\n",
       "      <th>88</th>\n",
       "      <td>37.5332</td>\n",
       "      <td>[53.0, 17.9, 18.23, 0.0, 363.0, 0.0]</td>\n",
       "    </tr>\n",
       "    <tr>\n",
       "      <th>89</th>\n",
       "      <td>38.2464</td>\n",
       "      <td>[53.0, 12.9, 17.6, 0.0, 364.0, 0.0]</td>\n",
       "    </tr>\n",
       "    <tr>\n",
       "      <th>90</th>\n",
       "      <td>31.1965</td>\n",
       "      <td>[53.0, 36.0, 14.04, 0.0, 365.0, 0.0]</td>\n",
       "    </tr>\n",
       "    <tr>\n",
       "      <th>91</th>\n",
       "      <td>33.5232</td>\n",
       "      <td>[53.0, 28.5, 4.55, 0.0, 366.0, 0.0]</td>\n",
       "    </tr>\n",
       "  </tbody>\n",
       "</table>\n",
       "<p>92 rows × 2 columns</p>\n",
       "</div>"
      ],
      "text/plain": [
       "    prediction                                           features\n",
       "0      32.2083               [40.0, 30.1, 16.76, 0.0, 275.0, 0.0]\n",
       "1      47.6617  [40.0, 24.7, 18.68, 30.9, 276.0, 763.229999999...\n",
       "2      36.9169             [40.0, 30.0, 5.34, 13.9, 277.0, 417.0]\n",
       "3      36.2962               [40.0, 23.7, 10.95, 0.0, 278.0, 0.0]\n",
       "4      34.5182                [41.0, 27.4, 4.42, 0.0, 279.0, 0.0]\n",
       "..         ...                                                ...\n",
       "87     40.2732             [52.0, 20.8, 3.05, 7.7, 362.0, 160.16]\n",
       "88     37.5332               [53.0, 17.9, 18.23, 0.0, 363.0, 0.0]\n",
       "89     38.2464                [53.0, 12.9, 17.6, 0.0, 364.0, 0.0]\n",
       "90     31.1965               [53.0, 36.0, 14.04, 0.0, 365.0, 0.0]\n",
       "91     33.5232                [53.0, 28.5, 4.55, 0.0, 366.0, 0.0]\n",
       "\n",
       "[92 rows x 2 columns]"
      ]
     },
     "execution_count": 126,
     "metadata": {},
     "output_type": "execute_result"
    }
   ],
   "source": [
    "predictions.toPandas()"
   ]
  },
  {
   "cell_type": "code",
   "execution_count": 127,
   "metadata": {},
   "outputs": [
    {
     "name": "stdout",
     "output_type": "stream",
     "text": [
      "(92, 1)\n"
     ]
    }
   ],
   "source": [
    "# Rearranging the predictions for 2020Q4\n",
    "predsQ4 = np.array(predictions.toPandas()['prediction']).reshape(92, -1)\n",
    "\n",
    "print(predsQ4.shape)"
   ]
  },
  {
   "cell_type": "code",
   "execution_count": 128,
   "metadata": {},
   "outputs": [
    {
     "data": {
      "text/html": [
       "<div>\n",
       "<style scoped>\n",
       "    .dataframe tbody tr th:only-of-type {\n",
       "        vertical-align: middle;\n",
       "    }\n",
       "\n",
       "    .dataframe tbody tr th {\n",
       "        vertical-align: top;\n",
       "    }\n",
       "\n",
       "    .dataframe thead th {\n",
       "        text-align: right;\n",
       "    }\n",
       "</style>\n",
       "<table border=\"1\" class=\"dataframe\">\n",
       "  <thead>\n",
       "    <tr style=\"text-align: right;\">\n",
       "      <th></th>\n",
       "      <th>date</th>\n",
       "      <th>humidity</th>\n",
       "    </tr>\n",
       "  </thead>\n",
       "  <tbody>\n",
       "    <tr>\n",
       "      <th>0</th>\n",
       "      <td>20201001</td>\n",
       "      <td>31.2900</td>\n",
       "    </tr>\n",
       "    <tr>\n",
       "      <th>1</th>\n",
       "      <td>20201002</td>\n",
       "      <td>47.7500</td>\n",
       "    </tr>\n",
       "    <tr>\n",
       "      <th>2</th>\n",
       "      <td>20201003</td>\n",
       "      <td>40.6100</td>\n",
       "    </tr>\n",
       "    <tr>\n",
       "      <th>3</th>\n",
       "      <td>20201004</td>\n",
       "      <td>35.0200</td>\n",
       "    </tr>\n",
       "    <tr>\n",
       "      <th>4</th>\n",
       "      <td>20201005</td>\n",
       "      <td>35.4100</td>\n",
       "    </tr>\n",
       "    <tr>\n",
       "      <th>5</th>\n",
       "      <td>20201006</td>\n",
       "      <td>31.5900</td>\n",
       "    </tr>\n",
       "    <tr>\n",
       "      <th>6</th>\n",
       "      <td>20201007</td>\n",
       "      <td>42.4600</td>\n",
       "    </tr>\n",
       "    <tr>\n",
       "      <th>7</th>\n",
       "      <td>20201008</td>\n",
       "      <td>65.4000</td>\n",
       "    </tr>\n",
       "    <tr>\n",
       "      <th>8</th>\n",
       "      <td>20201009</td>\n",
       "      <td>34.6400</td>\n",
       "    </tr>\n",
       "    <tr>\n",
       "      <th>9</th>\n",
       "      <td>20201010</td>\n",
       "      <td>48.6100</td>\n",
       "    </tr>\n",
       "  </tbody>\n",
       "</table>\n",
       "</div>"
      ],
      "text/plain": [
       "       date  humidity\n",
       "0  20201001   31.2900\n",
       "1  20201002   47.7500\n",
       "2  20201003   40.6100\n",
       "3  20201004   35.0200\n",
       "4  20201005   35.4100\n",
       "5  20201006   31.5900\n",
       "6  20201007   42.4600\n",
       "7  20201008   65.4000\n",
       "8  20201009   34.6400\n",
       "9  20201010   48.6100"
      ]
     },
     "execution_count": 128,
     "metadata": {},
     "output_type": "execute_result"
    }
   ],
   "source": [
    "\n",
    "# Read the input data set to get actual humidity values to compare with prediction\n",
    "output_2020 = pd.read_csv(\"./test_output_1.csv\", index_col=False)\n",
    "\n",
    "output_2020.head(10)"
   ]
  },
  {
   "cell_type": "code",
   "execution_count": 129,
   "metadata": {},
   "outputs": [
    {
     "data": {
      "text/plain": [
       "array([31.29, 47.75, 40.61, 35.02, 35.41, 31.59, 42.46, 65.4 , 34.64,\n",
       "       48.61, 43.02, 57.72, 38.63, 37.04, 37.3 , 33.52, 34.01, 40.49,\n",
       "       28.1 , 30.26, 34.81, 29.01, 34.48, 34.16, 37.69, 42.83, 29.66,\n",
       "       44.36, 38.44, 28.85, 27.89, 42.83, 32.84, 27.73, 38.41, 37.66,\n",
       "       41.86, 38.19, 61.67, 34.65, 54.75, 35.57, 51.06, 44.62, 38.22,\n",
       "       54.04, 41.44, 35.86, 43.07, 34.46, 34.57, 45.52, 40.59, 34.22,\n",
       "       36.4 , 59.79, 44.05, 39.68, 29.65, 34.49, 38.43, 41.22, 54.06,\n",
       "       37.13, 36.56, 35.29, 38.2 , 28.29, 33.15, 34.49, 57.48, 41.61,\n",
       "       41.57, 32.91, 45.79, 57.77, 37.57, 43.88, 39.45, 36.27, 45.88,\n",
       "       37.76, 38.66, 37.34, 33.98, 33.85, 32.99, 43.97, 38.32, 40.95,\n",
       "       30.78, 36.32])"
      ]
     },
     "execution_count": 129,
     "metadata": {},
     "output_type": "execute_result"
    }
   ],
   "source": [
    "output_2020['humidity'].values"
   ]
  },
  {
   "cell_type": "code",
   "execution_count": 130,
   "metadata": {},
   "outputs": [
    {
     "data": {
      "text/plain": [
       "5.89207722058151"
      ]
     },
     "execution_count": 130,
     "metadata": {},
     "output_type": "execute_result"
    }
   ],
   "source": [
    "# len(actual_humidity)\n",
    "# len(np.array(predictions.toPandas()['prediction']))\n",
    "actual_humidity = output_2020['humidity'].values\n",
    "mean_squared_error(actual_humidity, predsQ4)\n"
   ]
  },
  {
   "cell_type": "code",
   "execution_count": 131,
   "metadata": {},
   "outputs": [
    {
     "data": {
      "image/png": "[encoded data removed]",
      "text/plain": [
       "<Figure size 1440x432 with 1 Axes>"
      ]
     },
     "metadata": {
      "needs_background": "light"
     },
     "output_type": "display_data"
    }
   ],
   "source": [
    "from matplotlib import pyplot\n",
    "\n",
    "\n",
    "plt.figure(figsize=(20, 6))\n",
    "pyplot.plot(actual_humidity, label='Actual Humidity')\n",
    "pyplot.plot(predsQ4, color='red', linewidth=3, label='Predicted Humidity')\n",
    "plt.xlabel('Time [days]')\n",
    "plt.ylabel('Humidity')\n",
    "plt.legend(loc='best')\n",
    "pyplot.show()"
   ]
  },
  {
   "cell_type": "code",
   "execution_count": 132,
   "metadata": {},
   "outputs": [
    {
     "data": {
      "text/plain": [
       "array([31.29, 47.75, 40.61, 35.02, 35.41, 31.59, 42.46, 65.4 , 34.64,\n",
       "       48.61, 43.02, 57.72, 38.63, 37.04, 37.3 , 33.52, 34.01, 40.49,\n",
       "       28.1 , 30.26, 34.81, 29.01, 34.48, 34.16, 37.69, 42.83, 29.66,\n",
       "       44.36, 38.44, 28.85, 27.89, 42.83, 32.84, 27.73, 38.41, 37.66,\n",
       "       41.86, 38.19, 61.67, 34.65, 54.75, 35.57, 51.06, 44.62, 38.22,\n",
       "       54.04, 41.44, 35.86, 43.07, 34.46, 34.57, 45.52, 40.59, 34.22,\n",
       "       36.4 , 59.79, 44.05, 39.68, 29.65, 34.49, 38.43, 41.22, 54.06,\n",
       "       37.13, 36.56, 35.29, 38.2 , 28.29, 33.15, 34.49, 57.48, 41.61,\n",
       "       41.57, 32.91, 45.79, 57.77, 37.57, 43.88, 39.45, 36.27, 45.88,\n",
       "       37.76, 38.66, 37.34, 33.98, 33.85, 32.99, 43.97, 38.32, 40.95,\n",
       "       30.78, 36.32])"
      ]
     },
     "execution_count": 132,
     "metadata": {},
     "output_type": "execute_result"
    }
   ],
   "source": [
    "# np.array(predictions.toPandas()['prediction'])\n",
    "actual_humidity"
   ]
  },
  {
   "cell_type": "code",
   "execution_count": null,
   "metadata": {},
   "outputs": [],
   "source": []
  },
  {
   "cell_type": "markdown",
   "metadata": {},
   "source": [
    "# 2021 Prediction"
   ]
  },
  {
   "cell_type": "code",
   "execution_count": 136,
   "metadata": {},
   "outputs": [
    {
     "data": {
      "text/html": [
       "<div>\n",
       "<style scoped>\n",
       "    .dataframe tbody tr th:only-of-type {\n",
       "        vertical-align: middle;\n",
       "    }\n",
       "\n",
       "    .dataframe tbody tr th {\n",
       "        vertical-align: top;\n",
       "    }\n",
       "\n",
       "    .dataframe thead th {\n",
       "        text-align: right;\n",
       "    }\n",
       "</style>\n",
       "<table border=\"1\" class=\"dataframe\">\n",
       "  <thead>\n",
       "    <tr style=\"text-align: right;\">\n",
       "      <th></th>\n",
       "      <th>date</th>\n",
       "      <th>temp</th>\n",
       "      <th>wind</th>\n",
       "      <th>rainfall</th>\n",
       "    </tr>\n",
       "  </thead>\n",
       "  <tbody>\n",
       "    <tr>\n",
       "      <th>0</th>\n",
       "      <td>20210101</td>\n",
       "      <td>15.7500</td>\n",
       "      <td>6.1700</td>\n",
       "      <td>0.0000</td>\n",
       "    </tr>\n",
       "    <tr>\n",
       "      <th>1</th>\n",
       "      <td>20210102</td>\n",
       "      <td>19.1000</td>\n",
       "      <td>2.4950</td>\n",
       "      <td>66.6000</td>\n",
       "    </tr>\n",
       "    <tr>\n",
       "      <th>2</th>\n",
       "      <td>20210103</td>\n",
       "      <td>6.9000</td>\n",
       "      <td>9.2800</td>\n",
       "      <td>99.6000</td>\n",
       "    </tr>\n",
       "    <tr>\n",
       "      <th>3</th>\n",
       "      <td>20210104</td>\n",
       "      <td>5.6000</td>\n",
       "      <td>6.7850</td>\n",
       "      <td>0.0000</td>\n",
       "    </tr>\n",
       "    <tr>\n",
       "      <th>4</th>\n",
       "      <td>20210105</td>\n",
       "      <td>9.0000</td>\n",
       "      <td>5.8500</td>\n",
       "      <td>0.0000</td>\n",
       "    </tr>\n",
       "  </tbody>\n",
       "</table>\n",
       "</div>"
      ],
      "text/plain": [
       "       date    temp   wind  rainfall\n",
       "0  20210101 15.7500 6.1700    0.0000\n",
       "1  20210102 19.1000 2.4950   66.6000\n",
       "2  20210103  6.9000 9.2800   99.6000\n",
       "3  20210104  5.6000 6.7850    0.0000\n",
       "4  20210105  9.0000 5.8500    0.0000"
      ]
     },
     "execution_count": 136,
     "metadata": {},
     "output_type": "execute_result"
    }
   ],
   "source": [
    "\n",
    "# Read the s&p 500 input data set and sorting based on date.\n",
    "observed_2021 = pd.read_csv(\"./forecasted_1.csv\", index_col=False)\n",
    "\n",
    "observed_2021.head()"
   ]
  },
  {
   "cell_type": "code",
   "execution_count": 137,
   "metadata": {},
   "outputs": [],
   "source": [
    "\n",
    "observed_2021['day'] = observed_2021['date'].apply(convert_to_daynum)\n",
    "\n",
    "observed_2021['date'] = observed_2021['date'].apply(convert_to_date)"
   ]
  },
  {
   "cell_type": "code",
   "execution_count": 138,
   "metadata": {},
   "outputs": [
    {
     "data": {
      "text/html": [
       "<div>\n",
       "<style scoped>\n",
       "    .dataframe tbody tr th:only-of-type {\n",
       "        vertical-align: middle;\n",
       "    }\n",
       "\n",
       "    .dataframe tbody tr th {\n",
       "        vertical-align: top;\n",
       "    }\n",
       "\n",
       "    .dataframe thead th {\n",
       "        text-align: right;\n",
       "    }\n",
       "</style>\n",
       "<table border=\"1\" class=\"dataframe\">\n",
       "  <thead>\n",
       "    <tr style=\"text-align: right;\">\n",
       "      <th></th>\n",
       "      <th>week</th>\n",
       "      <th>temp</th>\n",
       "      <th>wind</th>\n",
       "      <th>rainfall</th>\n",
       "      <th>day</th>\n",
       "      <th>humScale</th>\n",
       "    </tr>\n",
       "  </thead>\n",
       "  <tbody>\n",
       "    <tr>\n",
       "      <th>0</th>\n",
       "      <td>53</td>\n",
       "      <td>15.7500</td>\n",
       "      <td>6.1700</td>\n",
       "      <td>0.0000</td>\n",
       "      <td>1</td>\n",
       "      <td>0.0000</td>\n",
       "    </tr>\n",
       "    <tr>\n",
       "      <th>1</th>\n",
       "      <td>53</td>\n",
       "      <td>19.1000</td>\n",
       "      <td>2.4950</td>\n",
       "      <td>66.6000</td>\n",
       "      <td>2</td>\n",
       "      <td>1272.0600</td>\n",
       "    </tr>\n",
       "    <tr>\n",
       "      <th>2</th>\n",
       "      <td>53</td>\n",
       "      <td>6.9000</td>\n",
       "      <td>9.2800</td>\n",
       "      <td>99.6000</td>\n",
       "      <td>3</td>\n",
       "      <td>687.2400</td>\n",
       "    </tr>\n",
       "    <tr>\n",
       "      <th>3</th>\n",
       "      <td>1</td>\n",
       "      <td>5.6000</td>\n",
       "      <td>6.7850</td>\n",
       "      <td>0.0000</td>\n",
       "      <td>4</td>\n",
       "      <td>0.0000</td>\n",
       "    </tr>\n",
       "    <tr>\n",
       "      <th>4</th>\n",
       "      <td>1</td>\n",
       "      <td>9.0000</td>\n",
       "      <td>5.8500</td>\n",
       "      <td>0.0000</td>\n",
       "      <td>5</td>\n",
       "      <td>0.0000</td>\n",
       "    </tr>\n",
       "  </tbody>\n",
       "</table>\n",
       "</div>"
      ],
      "text/plain": [
       "   week    temp   wind  rainfall  day  humScale\n",
       "0    53 15.7500 6.1700    0.0000    1    0.0000\n",
       "1    53 19.1000 2.4950   66.6000    2 1272.0600\n",
       "2    53  6.9000 9.2800   99.6000    3  687.2400\n",
       "3     1  5.6000 6.7850    0.0000    4    0.0000\n",
       "4     1  9.0000 5.8500    0.0000    5    0.0000"
      ]
     },
     "execution_count": 138,
     "metadata": {},
     "output_type": "execute_result"
    }
   ],
   "source": [
    "df = observed_2021\n",
    "\n",
    "# df['date']=pd.to_datetime(df['date'])\n",
    "df['year'] = df['date'].apply(lambda x: x.year)\n",
    "df['week'] = df['date'].apply(lambda x: x.week)\n",
    "df['month'] = df['date'].apply(lambda x: x.month)\n",
    "df['dayinmonth'] = df['date'].apply(lambda x: x.day)\n",
    "df['humScale'] = df['temp'] * df['rainfall'] \n",
    "\n",
    "df.sort_values('date', inplace=True, ascending=True)\n",
    "# df=df.loc[:,['date','year','quarter','month','dayinmonth', 'temp', 'wind', 'rainfall', 'day', 'humidity']]\n",
    "df=df.loc[:,['week', 'temp', 'wind', 'rainfall', 'day', 'humScale']]\n",
    "\n",
    "df = df.reset_index(drop=True)\n",
    "df.head()"
   ]
  },
  {
   "cell_type": "code",
   "execution_count": null,
   "metadata": {},
   "outputs": [],
   "source": []
  },
  {
   "cell_type": "code",
   "execution_count": null,
   "metadata": {},
   "outputs": [],
   "source": []
  },
  {
   "cell_type": "code",
   "execution_count": 139,
   "metadata": {},
   "outputs": [
    {
     "name": "stdout",
     "output_type": "stream",
     "text": [
      "+----+-----+-----+--------+---+------------------+--------------------+\n",
      "|week| temp| wind|rainfall|day|          humScale|            features|\n",
      "+----+-----+-----+--------+---+------------------+--------------------+\n",
      "|  53|15.75| 6.17|     0.0|  1|               0.0|[53.0,15.75,6.17,...|\n",
      "|  53| 19.1|2.495|    66.6|  2|           1272.06|[53.0,19.1,2.495,...|\n",
      "|  53|  6.9| 9.28|    99.6|  3|            687.24|[53.0,6.9,9.28,99...|\n",
      "|   1|  5.6|6.785|     0.0|  4|               0.0|[1.0,5.6,6.785,0....|\n",
      "|   1|  9.0| 5.85|     0.0|  5|               0.0|[1.0,9.0,5.85,0.0...|\n",
      "|   1|11.55|8.915|     0.0|  6|               0.0|[1.0,11.55,8.915,...|\n",
      "|   1|14.25|6.135|    72.0|  7|            1026.0|[1.0,14.25,6.135,...|\n",
      "|   1| 7.35|8.985|    98.4|  8|            723.24|[1.0,7.35,8.985,9...|\n",
      "|   1| 14.6|3.545|     0.0|  9|               0.0|[1.0,14.6,3.545,0...|\n",
      "|   1| 6.75|9.495|     0.0| 10|               0.0|[1.0,6.75,9.495,0...|\n",
      "|   2|14.75|3.715|     0.0| 11|               0.0|[2.0,14.75,3.715,...|\n",
      "|   2|10.55|6.785|    19.0| 12|200.45000000000002|[2.0,10.55,6.785,...|\n",
      "|   2| 19.8| 1.36|     0.0| 13|               0.0|[2.0,19.8,1.36,0....|\n",
      "|   2|  8.9| 7.38|     0.0| 14|               0.0|[2.0,8.9,7.38,0.0...|\n",
      "|   2|  8.3|9.275|     0.0| 15|               0.0|[2.0,8.3,9.275,0....|\n",
      "|   2| 10.7| 4.83|     0.0| 16|               0.0|[2.0,10.7,4.83,0....|\n",
      "|   2| 6.55|8.395|     0.0| 17|               0.0|[2.0,6.55,8.395,0...|\n",
      "|   3|  9.5|7.455|    73.6| 18| 699.1999999999999|[3.0,9.5,7.455,73...|\n",
      "|   3|  9.3| 8.41|     0.0| 19|               0.0|[3.0,9.3,8.41,0.0...|\n",
      "|   3| 10.1|9.765|     0.0| 20|               0.0|[3.0,10.1,9.765,0...|\n",
      "+----+-----+-----+--------+---+------------------+--------------------+\n",
      "only showing top 20 rows\n",
      "\n"
     ]
    }
   ],
   "source": [
    "\n",
    "# df.columns = ['week', 'temp', 'wind', 'rainfall', 'day', 'humScale']\n",
    "\n",
    "dfRDD_2021 = spark.createDataFrame(df)\n",
    "\n",
    "transformed_data_2021 = assembleFeatures(dfRDD_2021)\n",
    "transformed_data_2021.show()\n",
    "\n",
    "# Split the data\n",
    "# (trainingData, testData) = transformed_data_2020.randomSplit([0.9,0.1])"
   ]
  },
  {
   "cell_type": "code",
   "execution_count": 140,
   "metadata": {
    "scrolled": true
   },
   "outputs": [
    {
     "name": "stdout",
     "output_type": "stream",
     "text": [
      "+------------------+--------------------+\n",
      "|        prediction|            features|\n",
      "+------------------+--------------------+\n",
      "|34.385110944064095|[53.0,15.75,6.17,...|\n",
      "| 57.89059949134484|[53.0,19.1,2.495,...|\n",
      "| 57.78622749021455|[53.0,6.9,9.28,99...|\n",
      "|31.478627209824886|[1.0,5.6,6.785,0....|\n",
      "|31.649633133110974|[1.0,9.0,5.85,0.0...|\n",
      "+------------------+--------------------+\n",
      "only showing top 5 rows\n",
      "\n",
      "RandomForestRegressionModel: uid=RandomForestRegressor_eb943272c2fa, numTrees=20, numFeatures=6\n"
     ]
    }
   ],
   "source": [
    "predictions = testRFmodel(model, transformed_data_2021, False)"
   ]
  },
  {
   "cell_type": "code",
   "execution_count": 141,
   "metadata": {},
   "outputs": [
    {
     "name": "stdout",
     "output_type": "stream",
     "text": [
      "+------------------+--------------------+\n",
      "|        prediction|            features|\n",
      "+------------------+--------------------+\n",
      "|34.385110944064095|[53.0,15.75,6.17,...|\n",
      "| 57.89059949134484|[53.0,19.1,2.495,...|\n",
      "| 57.78622749021455|[53.0,6.9,9.28,99...|\n",
      "|31.478627209824886|[1.0,5.6,6.785,0....|\n",
      "|31.649633133110974|[1.0,9.0,5.85,0.0...|\n",
      "|31.478627209824886|[1.0,11.55,8.915,...|\n",
      "| 54.85391335262938|[1.0,14.25,6.135,...|\n",
      "|54.753756905307036|[1.0,7.35,8.985,9...|\n",
      "|31.649633133110974|[1.0,14.6,3.545,0...|\n",
      "|31.478627209824886|[1.0,6.75,9.495,0...|\n",
      "|31.649633133110974|[2.0,14.75,3.715,...|\n",
      "| 37.65051877408099|[2.0,10.55,6.785,...|\n",
      "|30.377032844763022|[2.0,19.8,1.36,0....|\n",
      "|31.478627209824886|[2.0,8.9,7.38,0.0...|\n",
      "|31.478627209824886|[2.0,8.3,9.275,0....|\n",
      "|31.649633133110974|[2.0,10.7,4.83,0....|\n",
      "|31.478627209824886|[2.0,6.55,8.395,0...|\n",
      "|55.077738876208194|[3.0,9.5,7.455,73...|\n",
      "|31.478627209824886|[3.0,9.3,8.41,0.0...|\n",
      "|30.881564627469565|[3.0,10.1,9.765,0...|\n",
      "+------------------+--------------------+\n",
      "only showing top 20 rows\n",
      "\n"
     ]
    }
   ],
   "source": [
    "predictions.show()"
   ]
  },
  {
   "cell_type": "code",
   "execution_count": 142,
   "metadata": {},
   "outputs": [
    {
     "data": {
      "text/plain": [
       "365"
      ]
     },
     "execution_count": 142,
     "metadata": {},
     "output_type": "execute_result"
    }
   ],
   "source": [
    "len(np.array(predictions.toPandas()['prediction']))"
   ]
  },
  {
   "cell_type": "code",
   "execution_count": 143,
   "metadata": {},
   "outputs": [
    {
     "data": {
      "text/html": [
       "<div>\n",
       "<style scoped>\n",
       "    .dataframe tbody tr th:only-of-type {\n",
       "        vertical-align: middle;\n",
       "    }\n",
       "\n",
       "    .dataframe tbody tr th {\n",
       "        vertical-align: top;\n",
       "    }\n",
       "\n",
       "    .dataframe thead th {\n",
       "        text-align: right;\n",
       "    }\n",
       "</style>\n",
       "<table border=\"1\" class=\"dataframe\">\n",
       "  <thead>\n",
       "    <tr style=\"text-align: right;\">\n",
       "      <th></th>\n",
       "      <th>date</th>\n",
       "      <th>temp</th>\n",
       "      <th>wind</th>\n",
       "      <th>rainfall</th>\n",
       "      <th>day</th>\n",
       "      <th>year</th>\n",
       "      <th>week</th>\n",
       "      <th>month</th>\n",
       "      <th>dayinmonth</th>\n",
       "      <th>humScale</th>\n",
       "    </tr>\n",
       "  </thead>\n",
       "  <tbody>\n",
       "    <tr>\n",
       "      <th>0</th>\n",
       "      <td>2021-01-01</td>\n",
       "      <td>15.7500</td>\n",
       "      <td>6.1700</td>\n",
       "      <td>0.0000</td>\n",
       "      <td>1</td>\n",
       "      <td>2021</td>\n",
       "      <td>53</td>\n",
       "      <td>1</td>\n",
       "      <td>1</td>\n",
       "      <td>0.0000</td>\n",
       "    </tr>\n",
       "    <tr>\n",
       "      <th>1</th>\n",
       "      <td>2021-01-02</td>\n",
       "      <td>19.1000</td>\n",
       "      <td>2.4950</td>\n",
       "      <td>66.6000</td>\n",
       "      <td>2</td>\n",
       "      <td>2021</td>\n",
       "      <td>53</td>\n",
       "      <td>1</td>\n",
       "      <td>2</td>\n",
       "      <td>1272.0600</td>\n",
       "    </tr>\n",
       "    <tr>\n",
       "      <th>2</th>\n",
       "      <td>2021-01-03</td>\n",
       "      <td>6.9000</td>\n",
       "      <td>9.2800</td>\n",
       "      <td>99.6000</td>\n",
       "      <td>3</td>\n",
       "      <td>2021</td>\n",
       "      <td>53</td>\n",
       "      <td>1</td>\n",
       "      <td>3</td>\n",
       "      <td>687.2400</td>\n",
       "    </tr>\n",
       "    <tr>\n",
       "      <th>3</th>\n",
       "      <td>2021-01-04</td>\n",
       "      <td>5.6000</td>\n",
       "      <td>6.7850</td>\n",
       "      <td>0.0000</td>\n",
       "      <td>4</td>\n",
       "      <td>2021</td>\n",
       "      <td>1</td>\n",
       "      <td>1</td>\n",
       "      <td>4</td>\n",
       "      <td>0.0000</td>\n",
       "    </tr>\n",
       "    <tr>\n",
       "      <th>4</th>\n",
       "      <td>2021-01-05</td>\n",
       "      <td>9.0000</td>\n",
       "      <td>5.8500</td>\n",
       "      <td>0.0000</td>\n",
       "      <td>5</td>\n",
       "      <td>2021</td>\n",
       "      <td>1</td>\n",
       "      <td>1</td>\n",
       "      <td>5</td>\n",
       "      <td>0.0000</td>\n",
       "    </tr>\n",
       "    <tr>\n",
       "      <th>...</th>\n",
       "      <td>...</td>\n",
       "      <td>...</td>\n",
       "      <td>...</td>\n",
       "      <td>...</td>\n",
       "      <td>...</td>\n",
       "      <td>...</td>\n",
       "      <td>...</td>\n",
       "      <td>...</td>\n",
       "      <td>...</td>\n",
       "      <td>...</td>\n",
       "    </tr>\n",
       "    <tr>\n",
       "      <th>360</th>\n",
       "      <td>2021-12-27</td>\n",
       "      <td>12.1000</td>\n",
       "      <td>5.3600</td>\n",
       "      <td>6.2000</td>\n",
       "      <td>361</td>\n",
       "      <td>2021</td>\n",
       "      <td>52</td>\n",
       "      <td>12</td>\n",
       "      <td>27</td>\n",
       "      <td>75.0200</td>\n",
       "    </tr>\n",
       "    <tr>\n",
       "      <th>361</th>\n",
       "      <td>2021-12-28</td>\n",
       "      <td>12.6500</td>\n",
       "      <td>4.7600</td>\n",
       "      <td>0.0000</td>\n",
       "      <td>362</td>\n",
       "      <td>2021</td>\n",
       "      <td>52</td>\n",
       "      <td>12</td>\n",
       "      <td>28</td>\n",
       "      <td>0.0000</td>\n",
       "    </tr>\n",
       "    <tr>\n",
       "      <th>362</th>\n",
       "      <td>2021-12-29</td>\n",
       "      <td>10.7500</td>\n",
       "      <td>5.9700</td>\n",
       "      <td>0.0000</td>\n",
       "      <td>363</td>\n",
       "      <td>2021</td>\n",
       "      <td>52</td>\n",
       "      <td>12</td>\n",
       "      <td>29</td>\n",
       "      <td>0.0000</td>\n",
       "    </tr>\n",
       "    <tr>\n",
       "      <th>363</th>\n",
       "      <td>2021-12-30</td>\n",
       "      <td>8.7500</td>\n",
       "      <td>3.7950</td>\n",
       "      <td>110.8000</td>\n",
       "      <td>364</td>\n",
       "      <td>2021</td>\n",
       "      <td>52</td>\n",
       "      <td>12</td>\n",
       "      <td>30</td>\n",
       "      <td>969.5000</td>\n",
       "    </tr>\n",
       "    <tr>\n",
       "      <th>364</th>\n",
       "      <td>2021-12-31</td>\n",
       "      <td>13.0500</td>\n",
       "      <td>8.9100</td>\n",
       "      <td>0.0000</td>\n",
       "      <td>365</td>\n",
       "      <td>2021</td>\n",
       "      <td>52</td>\n",
       "      <td>12</td>\n",
       "      <td>31</td>\n",
       "      <td>0.0000</td>\n",
       "    </tr>\n",
       "  </tbody>\n",
       "</table>\n",
       "<p>365 rows × 10 columns</p>\n",
       "</div>"
      ],
      "text/plain": [
       "          date    temp   wind  rainfall  day  year  week  month  dayinmonth  \\\n",
       "0   2021-01-01 15.7500 6.1700    0.0000    1  2021    53      1           1   \n",
       "1   2021-01-02 19.1000 2.4950   66.6000    2  2021    53      1           2   \n",
       "2   2021-01-03  6.9000 9.2800   99.6000    3  2021    53      1           3   \n",
       "3   2021-01-04  5.6000 6.7850    0.0000    4  2021     1      1           4   \n",
       "4   2021-01-05  9.0000 5.8500    0.0000    5  2021     1      1           5   \n",
       "..         ...     ...    ...       ...  ...   ...   ...    ...         ...   \n",
       "360 2021-12-27 12.1000 5.3600    6.2000  361  2021    52     12          27   \n",
       "361 2021-12-28 12.6500 4.7600    0.0000  362  2021    52     12          28   \n",
       "362 2021-12-29 10.7500 5.9700    0.0000  363  2021    52     12          29   \n",
       "363 2021-12-30  8.7500 3.7950  110.8000  364  2021    52     12          30   \n",
       "364 2021-12-31 13.0500 8.9100    0.0000  365  2021    52     12          31   \n",
       "\n",
       "     humScale  \n",
       "0      0.0000  \n",
       "1   1272.0600  \n",
       "2    687.2400  \n",
       "3      0.0000  \n",
       "4      0.0000  \n",
       "..        ...  \n",
       "360   75.0200  \n",
       "361    0.0000  \n",
       "362    0.0000  \n",
       "363  969.5000  \n",
       "364    0.0000  \n",
       "\n",
       "[365 rows x 10 columns]"
      ]
     },
     "execution_count": 143,
     "metadata": {},
     "output_type": "execute_result"
    }
   ],
   "source": [
    "observed_2021"
   ]
  },
  {
   "cell_type": "code",
   "execution_count": 144,
   "metadata": {},
   "outputs": [
    {
     "data": {
      "text/plain": [
       "array([[Timestamp('2021-01-01 00:00:00'), 15.75, 6.17, ..., 1, 0.0,\n",
       "        34.385110944064095],\n",
       "       [Timestamp('2021-01-02 00:00:00'), 19.1, 2.495, ..., 2, 1272.06,\n",
       "        57.89059949134484],\n",
       "       [Timestamp('2021-01-03 00:00:00'), 6.9, 9.28, ..., 3, 687.24,\n",
       "        57.78622749021455],\n",
       "       ...,\n",
       "       [Timestamp('2021-12-29 00:00:00'), 10.75, 5.97, ..., 29, 0.0,\n",
       "        39.120175138923855],\n",
       "       [Timestamp('2021-12-30 00:00:00'), 8.75, 3.795, ..., 30, 969.5,\n",
       "        61.746548975270414],\n",
       "       [Timestamp('2021-12-31 00:00:00'), 13.05, 8.91, ..., 31, 0.0,\n",
       "        38.832408942302735]], dtype=object)"
      ]
     },
     "execution_count": 144,
     "metadata": {},
     "output_type": "execute_result"
    }
   ],
   "source": [
    "# observed_2021[0,]\n",
    "preds2concat = np.array(predictions.toPandas()['prediction']).reshape(365,-1)\n",
    "result = np.concatenate((observed_2021, preds2concat), axis=1)\n",
    "result"
   ]
  },
  {
   "cell_type": "code",
   "execution_count": 145,
   "metadata": {},
   "outputs": [],
   "source": [
    "# pd.write_csv(result)\n",
    "result = pd.DataFrame(result)\n",
    "result.to_csv('./result.csv', index=True)  "
   ]
  },
  {
   "cell_type": "code",
   "execution_count": null,
   "metadata": {},
   "outputs": [],
   "source": []
  },
  {
   "cell_type": "code",
   "execution_count": null,
   "metadata": {},
   "outputs": [],
   "source": []
  }
 ],
 "metadata": {
  "accelerator": "GPU",
  "colab": {
   "collapsed_sections": [],
   "machine_shape": "hm",
   "name": "ARIMA & LSTM on Time Series Data with Fourier Filtering",
   "provenance": []
  },
  "kernelspec": {
   "display_name": "Python 3",
   "language": "python",
   "name": "python3"
  },
  "language_info": {
   "codemirror_mode": {
    "name": "ipython",
    "version": 3
   },
   "file_extension": ".py",
   "mimetype": "text/x-python",
   "name": "python",
   "nbconvert_exporter": "python",
   "pygments_lexer": "ipython3",
   "version": "3.8.5"
  }
 },
 "nbformat": 4,
 "nbformat_minor": 1
}
