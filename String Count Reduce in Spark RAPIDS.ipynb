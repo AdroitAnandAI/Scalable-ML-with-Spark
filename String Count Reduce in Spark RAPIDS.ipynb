{
 "cells": [
  {
   "cell_type": "code",
   "execution_count": 3,
   "id": "6e08f0db",
   "metadata": {},
   "outputs": [
    {
     "name": "stdout",
     "output_type": "stream",
     "text": [
      "Time taken to run: 12.750982284545898 seconds\n"
     ]
    }
   ],
   "source": [
    "\n",
    "import string    \n",
    "import random # define the random module \n",
    "from time import time\n",
    "from pyspark.context import SparkContext\n",
    "from pyspark.sql.session import SparkSession\n",
    "\n",
    "\n",
    "if not 'sc' in globals():\n",
    "    sc = SparkContext('local')\n",
    "    spark = SparkSession(sc)\n",
    "\n",
    "    \n",
    "S = 3  # number of characters in the string.  \n",
    "charCounts = []\n",
    "\n",
    "for i in range (0, 10000000):\n",
    "    # call random.choices() string module to find the string in Uppercase\n",
    "    ranString = ''.join(random.choices(string.ascii_uppercase, k = S))    \n",
    "    # print(\"The randomly generated string is : \" + str(ran)) # print the random data\n",
    "\n",
    "    ranCount = random.randint(1, 10)\n",
    "\n",
    "    charCounts.append((ranString, ranCount))\n",
    "\n",
    "# print(charCounts)\n",
    "    \n",
    "    \n",
    "# creating PairRDD x with key value pairs\n",
    "\n",
    "start = time()\n",
    "\n",
    "# Distribute the huge list into k partitions\n",
    "x = sc.parallelize(charCounts, 8)\n",
    "\n",
    "# Apply reduceByKey operation on x\n",
    "y = x.reduceByKey(lambda accum, n: accum + n)\n",
    "\n",
    "# To collect the data to one node.\n",
    "output = y.collect()\n",
    "\n",
    "print(f'Time taken to run: {time() - start} seconds')\n",
    "\n",
    "# print(output)\n",
    "\n"
   ]
  },
  {
   "cell_type": "code",
   "execution_count": 17,
   "id": "fcf790d4",
   "metadata": {},
   "outputs": [
    {
     "name": "stdout",
     "output_type": "stream",
     "text": [
      "[('DQE', 10), ('KIG', 2), ('FGV', 4), ('IEM', 8), ('EXX', 3), ('WFA', 6), ('PWT', 7), ('SCM', 5), ('ITQ', 8), ('MIJ', 4)]\n"
     ]
    }
   ],
   "source": [
    "    # String and Count Generator Code\n",
    "    \n",
    "    import string    \n",
    "    import random # define the random module \n",
    "    \n",
    "    S = 3  # number of characters in the string.  \n",
    "    charCounts = []\n",
    "    \n",
    "    for i in range (0, 10):\n",
    "        # call random.choices() string module to find the string in Uppercase\n",
    "        ranString = ''.join(random.choices(string.ascii_uppercase, k = S))    \n",
    "        # print(\"The randomly generated string is : \" + str(ran)) # print the random data\n",
    "\n",
    "        ranCount = random.randint(1, 10)\n",
    "\n",
    "        charCounts.append((ranString, ranCount))\n",
    "    \n",
    "    print(charCounts)\n",
    "    "
   ]
  },
  {
   "cell_type": "code",
   "execution_count": null,
   "id": "c57353c5",
   "metadata": {},
   "outputs": [],
   "source": []
  }
 ],
 "metadata": {
  "kernelspec": {
   "display_name": "Python 3",
   "language": "python",
   "name": "python3"
  },
  "language_info": {
   "codemirror_mode": {
    "name": "ipython",
    "version": 3
   },
   "file_extension": ".py",
   "mimetype": "text/x-python",
   "name": "python",
   "nbconvert_exporter": "python",
   "pygments_lexer": "ipython3",
   "version": "3.9.2"
  }
 },
 "nbformat": 4,
 "nbformat_minor": 5
}
